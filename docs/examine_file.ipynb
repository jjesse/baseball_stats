{
 "cells": [
  {
   "cell_type": "markdown",
   "id": "0ffa0250",
   "metadata": {},
   "source": [
    "# Examining the Standings HTML Structure\n",
    "\n",
    "Let's first examine the standings.html file to understand the structure and identify where the \"error loading data\" message might be coming from."
   ]
  },
  {
   "cell_type": "code",
   "execution_count": null,
   "id": "8e32ec7b",
   "metadata": {},
   "outputs": [],
   "source": [
    "import os\n",
    "import json\n",
    "\n",
    "# Check if we have the standings.html file\n",
    "html_path = '/home/jjesse/github/baseball_stats/docs/standings.html'\n",
    "if os.path.exists(html_path):\n",
    "    print(f\"✅ standings.html exists\")\n",
    "    print(f\"File size: {os.path.getsize(html_path)} bytes\")\n",
    "else:\n",
    "    print(f\"❌ standings.html does not exist\")\n",
    "\n",
    "# Check if we have the standings_summary.json file\n",
    "summary_path = '/home/jjesse/github/baseball_stats/docs/standings_summary.json'\n",
    "if os.path.exists(summary_path):\n",
    "    print(f\"✅ standings_summary.json exists\")\n",
    "    with open(summary_path, 'r') as f:\n",
    "        try:\n",
    "            summary_data = json.load(f)\n",
    "            print(f\"Summary data keys: {list(summary_data.keys())}\")\n",
    "        except json.JSONDecodeError as e:\n",
    "            print(f\"❌ Invalid JSON: {e}\")\n",
    "else:\n",
    "    print(f\"❌ standings_summary.json does not exist\")\n",
    "\n",
    "# Check for the last_updated_standings.txt file\n",
    "update_path = '/home/jjesse/github/baseball_stats/docs/last_updated_standings.txt'\n",
    "if os.path.exists(update_path):\n",
    "    print(f\"✅ last_updated_standings.txt exists\")\n",
    "    with open(update_path, 'r') as f:\n",
    "        print(f\"Content: {f.read().strip()}\")\n",
    "else:\n",
    "    print(f\"❌ last_updated_standings.txt does not exist\")"
   ]
  },
  {
   "cell_type": "code",
   "execution_count": null,
   "id": "4fa8622d",
   "metadata": {},
   "outputs": [],
   "source": [
    "import re\n",
    "\n",
    "# Examine the workflow files to see when the standings data should be generated\n",
    "workflow_path = '/home/jjesse/github/baseball_stats/.github/workflows/update-standings.yml'\n",
    "if os.path.exists(workflow_path):\n",
    "    with open(workflow_path, 'r') as f:\n",
    "        workflow_content = f.read()\n",
    "        print(f\"Standings workflow exists, size: {len(workflow_content)} bytes\")\n",
    "\n",
    "# Let's examine the HTML file content directly\n",
    "html_path = '/home/jjesse/github/baseball_stats/docs/standings.html'\n",
    "if os.path.exists(html_path):\n",
    "    with open(html_path, 'r') as f:\n",
    "        html_content = f.read()\n",
    "    \n",
    "    # Extract the JavaScript function that loads the stats\n",
    "    load_stats_match = re.search(r'async function loadOverviewStats\\(\\) \\{(.*?)\\}', html_content, re.DOTALL)\n",
    "    if load_stats_match:\n",
    "        load_stats_function = load_stats_match.group(0)\n",
    "        print(\"Found loadOverviewStats function:\")\n",
    "        print(load_stats_function)\n",
    "    else:\n",
    "        print(\"loadOverviewStats function not found in HTML\")\n",
    "else:\n",
    "    print(\"Standings HTML file not found\")"
   ]
  },
  {
   "cell_type": "code",
   "execution_count": null,
   "id": "8cc0da62",
   "metadata": {},
   "outputs": [],
   "source": [
    "import os\n",
    "\n",
    "# Read the file line by line to examine\n",
    "file_path = '/home/jjesse/github/baseball_stats/trend_batting.py'\n",
    "with open(file_path, 'r') as f:\n",
    "    lines = f.readlines()\n",
    "\n",
    "# Print line numbers and content to see where the issue might be\n",
    "for i, line in enumerate(lines, 1):\n",
    "    print(f\"{i:3d}: {repr(line)}\")"
   ]
  }
 ],
 "metadata": {
  "language_info": {
   "name": "python"
  }
 },
 "nbformat": 4,
 "nbformat_minor": 5
}
