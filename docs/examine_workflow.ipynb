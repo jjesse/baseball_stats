{
 "cells": [
  {
   "cell_type": "code",
   "execution_count": null,
   "id": "6727bbfb",
   "metadata": {},
   "outputs": [],
   "source": [
    "import os\n",
    "\n",
    "# Read the file line by line to examine\n",
    "file_path = '/home/jjesse/github/baseball_stats/.github/workflows/update-pitching.yml'\n",
    "with open(file_path, 'r') as f:\n",
    "    content = f.read()\n",
    "\n",
    "print(content)"
   ]
  },
  {
   "cell_type": "code",
   "execution_count": null,
   "id": "a61591dd",
   "metadata": {},
   "outputs": [],
   "source": [
    "import os\n",
    "\n",
    "# Read the file line by line to examine\n",
    "file_path = '/home/jjesse/github/baseball_stats/.github/workflows/update-batting.yml'\n",
    "with open(file_path, 'r') as f:\n",
    "    content = f.read()\n",
    "\n",
    "print(content)"
   ]
  }
 ],
 "metadata": {
  "language_info": {
   "name": "python"
  }
 },
 "nbformat": 4,
 "nbformat_minor": 5
}
